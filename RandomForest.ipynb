{
 "cells": [
  {
   "cell_type": "code",
   "execution_count": 1,
   "metadata": {},
   "outputs": [],
   "source": [
    "import pandas as pd\n",
    "from pymongo import MongoClient\n",
    "from sklearn.model_selection import train_test_split\n",
    "from sklearn.feature_extraction.text import TfidfVectorizer\n",
    "from sklearn.metrics import classification_report\n",
    "from sklearn.ensemble import RandomForestClassifier\n",
    "\n",
    "from sklearn.multioutput import MultiOutputClassifier\n",
    "from sklearn.naive_bayes import MultinomialNB\n",
    "from sklearn.linear_model import LogisticRegression\n",
    "from sklearn.svm import SVC\n",
    "import nltk\n",
    "from nltk.corpus import stopwords"
   ]
  },
  {
   "cell_type": "code",
   "execution_count": 2,
   "metadata": {},
   "outputs": [
    {
     "name": "stderr",
     "output_type": "stream",
     "text": [
      "[nltk_data] Downloading package stopwords to\n",
      "[nltk_data]     C:\\Users\\antho\\AppData\\Roaming\\nltk_data...\n",
      "[nltk_data]   Package stopwords is already up-to-date!\n"
     ]
    }
   ],
   "source": [
    "# Descargar las stopwords en español\n",
    "nltk.download('stopwords')\n",
    "spanish_stopwords = stopwords.words('spanish')"
   ]
  },
  {
   "cell_type": "code",
   "execution_count": 3,
   "metadata": {},
   "outputs": [],
   "source": [
    "# Configuración de MongoDB\n",
    "MONGO_URI = \"mongodb://localhost:27017/\"  # Cambia esto si usas una configuración diferente\n",
    "DATABASE_NAME = \"tesis\"\n",
    "COLLECTION_NAME = \"ciberbullying\""
   ]
  },
  {
   "cell_type": "code",
   "execution_count": 4,
   "metadata": {},
   "outputs": [],
   "source": [
    "# --- Análisis de Procesamiento de Lenguaje Natural (PLN) ---\n",
    "\n",
    "# Cargar datos desde MongoDB\n",
    "def fetch_data_from_mongo(db_name, collection_name):\n",
    "    \"\"\"\n",
    "    Extrae datos de una colección MongoDB y los convierte en un DataFrame.\n",
    "    \"\"\"\n",
    "    client = MongoClient(MONGO_URI)\n",
    "    db = client[db_name]\n",
    "    collection = db[collection_name]\n",
    "    data = pd.DataFrame(list(collection.find()))\n",
    "    client.close()\n",
    "    return data\n",
    "\n",
    "data = fetch_data_from_mongo(DATABASE_NAME, COLLECTION_NAME)"
   ]
  },
  {
   "cell_type": "code",
   "execution_count": 5,
   "metadata": {},
   "outputs": [],
   "source": [
    "# Limpieza de datos\n",
    "def clean_data(data, text_column):\n",
    "    \"\"\"\n",
    "    Limpia el DataFrame eliminando o reemplazando valores nulos en la columna de texto.\n",
    "\n",
    "    Parameters:\n",
    "        data (DataFrame): Datos con texto y etiquetas.\n",
    "        text_column (str): Nombre de la columna de texto.\n",
    "\n",
    "    Returns:\n",
    "        DataFrame: Datos limpios.\n",
    "    \"\"\"\n",
    "    data[text_column] = data[text_column].fillna(\"\")  # Reemplazar NaN con cadena vacía\n",
    "    return data\n",
    "\n",
    "# Limpieza de los datos antes del preprocesamiento\n",
    "data = clean_data(data, \"texto\")"
   ]
  },
  {
   "cell_type": "code",
   "execution_count": 6,
   "metadata": {},
   "outputs": [],
   "source": [
    "# Preprocesamiento del texto\n",
    "def preprocess_text(data, text_column, label_columns):\n",
    "    \"\"\"\n",
    "    Preprocesa los textos y divide en conjuntos de entrenamiento y prueba.\n",
    "\n",
    "    Parameters:\n",
    "        data (DataFrame): Datos con columnas de texto y etiquetas.\n",
    "        text_column (str): Nombre de la columna con texto.\n",
    "        label_columns (list): Nombres de las columnas de etiquetas.\n",
    "\n",
    "    Returns:\n",
    "        X_train, X_test, y_train, y_test: Conjuntos de datos divididos.\n",
    "    \"\"\"\n",
    "    vectorizer = TfidfVectorizer(stop_words=spanish_stopwords)\n",
    "    X = vectorizer.fit_transform(data[text_column])\n",
    "    y = data[label_columns]\n",
    "    return train_test_split(X, y, test_size=0.2, random_state=42)\n",
    "\n",
    "text_column = \"texto\"  # Columna de texto\n",
    "label_columns = [\n",
    "    \"insulto\", \"amenaza\", \"rumores_difamatorios\", \"comentarios_humillantes\", \"lenguaje_discriminatorio\",\n",
    "    \"acoso_sexual\", \"manipulacion_emocional\", \"lenguaje_vulgar\", \"acoso_general\", \"redes_sociales\",\n",
    "    \"suicidio_autolesion\"\n",
    "]  # Columnas de etiquetas"
   ]
  },
  {
   "cell_type": "code",
   "execution_count": 7,
   "metadata": {},
   "outputs": [],
   "source": [
    "# Preprocesamiento\n",
    "X_train, X_test, y_train, y_test = preprocess_text(data, text_column, label_columns)"
   ]
  },
  {
   "cell_type": "code",
   "execution_count": null,
   "metadata": {},
   "outputs": [],
   "source": [
    "# --- Modelo de Machine Learning: Random Forest Multietiqueta ---\n",
    "rf_base_model = RandomForestClassifier(n_estimators=100, random_state=42)\n",
    "rf_model = MultiOutputClassifier(rf_base_model)\n",
    "rf_model.fit(X_train, y_train)  # Entrena el modelo con los datos de entrenamiento"
   ]
  },
  {
   "cell_type": "code",
   "execution_count": null,
   "metadata": {},
   "outputs": [],
   "source": [
    "# Predicciones\n",
    "rf_predictions = rf_model.predict(X_test)\n",
    "\n",
    "# Evaluación del modelo\n",
    "print(\"Reporte de métricas para Random Forest (multietiqueta):\")\n",
    "for i, column in enumerate(label_columns):\n",
    "    print(f\"Etiqueta: {column}\")\n",
    "    print(classification_report(y_test.iloc[:, i], rf_predictions[:, i]))"
   ]
  }
 ],
 "metadata": {
  "kernelspec": {
   "display_name": "Python 3",
   "language": "python",
   "name": "python3"
  },
  "language_info": {
   "codemirror_mode": {
    "name": "ipython",
    "version": 3
   },
   "file_extension": ".py",
   "mimetype": "text/x-python",
   "name": "python",
   "nbconvert_exporter": "python",
   "pygments_lexer": "ipython3",
   "version": "3.11.9"
  }
 },
 "nbformat": 4,
 "nbformat_minor": 2
}
