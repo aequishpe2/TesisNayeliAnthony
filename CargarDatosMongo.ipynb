{
 "cells": [
  {
   "cell_type": "code",
   "execution_count": 74,
   "metadata": {},
   "outputs": [],
   "source": [
    "# Proceso ETL para cargar archivos CSV a MongoDB\n",
    "\n",
    "import pandas as pd\n",
    "from pymongo import MongoClient\n",
    "from sklearn.model_selection import train_test_split\n",
    "from sklearn.feature_extraction.text import TfidfVectorizer\n",
    "from sklearn.metrics import classification_report\n",
    "from sklearn.ensemble import RandomForestClassifier\n",
    "\n",
    "from sklearn.multioutput import MultiOutputClassifier\n",
    "from sklearn.naive_bayes import MultinomialNB\n",
    "from sklearn.linear_model import LogisticRegression\n",
    "from sklearn.svm import SVC\n",
    "import nltk\n",
    "from nltk.corpus import stopwords\n"
   ]
  },
  {
   "cell_type": "code",
   "execution_count": 61,
   "metadata": {},
   "outputs": [
    {
     "name": "stderr",
     "output_type": "stream",
     "text": [
      "[nltk_data] Downloading package stopwords to\n",
      "[nltk_data]     C:\\Users\\antho\\AppData\\Roaming\\nltk_data...\n",
      "[nltk_data]   Package stopwords is already up-to-date!\n"
     ]
    }
   ],
   "source": [
    "# Descargar las stopwords en español\n",
    "nltk.download('stopwords')\n",
    "spanish_stopwords = stopwords.words('spanish')"
   ]
  },
  {
   "cell_type": "code",
   "execution_count": 62,
   "metadata": {},
   "outputs": [],
   "source": [
    "# Configuración de MongoDB\n",
    "MONGO_URI = \"mongodb://localhost:27017/\"  # Cambia esto si usas una configuración diferente\n",
    "DATABASE_NAME = \"tesis\"\n",
    "COLLECTION_NAME = \"ciberbullying\"\n"
   ]
  },
  {
   "cell_type": "code",
   "execution_count": 63,
   "metadata": {},
   "outputs": [],
   "source": [
    "# Lista de archivos CSV\n",
    "csv_files = [\n",
    "    \"dataset_transformed1.csv\",\n",
    "    \"dataset_transformed2.csv\",\n",
    "    \"dataset_transformed3.csv\",\n",
    "    \"dataset_transformed4.csv\",\n",
    "    \"dataset_transformed5.csv\"\n",
    "]"
   ]
  },
  {
   "cell_type": "code",
   "execution_count": 64,
   "metadata": {},
   "outputs": [],
   "source": [
    "def load_csv_to_mongo(file_list, db_name, collection_name):\n",
    "    \"\"\"\n",
    "    Carga múltiples archivos CSV a una colección de MongoDB.\n",
    "\n",
    "    Parameters:\n",
    "        file_list (list): Lista de rutas de archivos CSV.\n",
    "        db_name (str): Nombre de la base de datos en MongoDB.\n",
    "        collection_name (str): Nombre de la colección en MongoDB.\n",
    "    \"\"\"\n",
    "    try:\n",
    "        # Conexión a MongoDB\n",
    "        client = MongoClient(MONGO_URI)\n",
    "        db = client[db_name]\n",
    "        collection = db[collection_name]\n",
    "\n",
    "        for file in file_list:\n",
    "            print(f\"Procesando archivo: {file}\")\n",
    "            \n",
    "            # Leer el archivo CSV\n",
    "            df = pd.read_csv(file)\n",
    "            \n",
    "            # Limpiar y convertir a JSON\n",
    "            data = df.to_dict(orient='records')\n",
    "\n",
    "            # Insertar datos en MongoDB\n",
    "            if data:\n",
    "                collection.insert_many(data)\n",
    "                print(f\"Datos de {file} cargados correctamente.\")\n",
    "            else:\n",
    "                print(f\"El archivo {file} está vacío o no contiene datos válidos.\")\n",
    "        \n",
    "        print(\"Todos los archivos se han cargado exitosamente.\")\n",
    "    except Exception as e:\n",
    "        print(f\"Error durante el proceso ETL: {e}\")\n",
    "    finally:\n",
    "        client.close()"
   ]
  },
  {
   "cell_type": "code",
   "execution_count": 65,
   "metadata": {},
   "outputs": [
    {
     "name": "stdout",
     "output_type": "stream",
     "text": [
      "Procesando archivo: dataset_transformed1.csv\n",
      "Datos de dataset_transformed1.csv cargados correctamente.\n",
      "Procesando archivo: dataset_transformed2.csv\n",
      "Datos de dataset_transformed2.csv cargados correctamente.\n",
      "Procesando archivo: dataset_transformed3.csv\n",
      "Datos de dataset_transformed3.csv cargados correctamente.\n",
      "Procesando archivo: dataset_transformed4.csv\n",
      "Datos de dataset_transformed4.csv cargados correctamente.\n",
      "Procesando archivo: dataset_transformed5.csv\n",
      "Datos de dataset_transformed5.csv cargados correctamente.\n",
      "Todos los archivos se han cargado exitosamente.\n"
     ]
    }
   ],
   "source": [
    "# Ejecutar el ETL\n",
    "load_csv_to_mongo(csv_files, DATABASE_NAME, COLLECTION_NAME)"
   ]
  },
  {
   "cell_type": "code",
   "execution_count": 66,
   "metadata": {},
   "outputs": [],
   "source": [
    "# --- Análisis de Procesamiento de Lenguaje Natural (PLN) ---\n",
    "\n",
    "# Cargar datos desde MongoDB\n",
    "def fetch_data_from_mongo(db_name, collection_name):\n",
    "    \"\"\"\n",
    "    Extrae datos de una colección MongoDB y los convierte en un DataFrame.\n",
    "    \"\"\"\n",
    "    client = MongoClient(MONGO_URI)\n",
    "    db = client[db_name]\n",
    "    collection = db[collection_name]\n",
    "    data = pd.DataFrame(list(collection.find()))\n",
    "    client.close()\n",
    "    return data\n",
    "\n",
    "data = fetch_data_from_mongo(DATABASE_NAME, COLLECTION_NAME)"
   ]
  },
  {
   "cell_type": "code",
   "execution_count": 67,
   "metadata": {},
   "outputs": [],
   "source": [
    "# Limpieza de datos\n",
    "def clean_data(data, text_column):\n",
    "    \"\"\"\n",
    "    Limpia el DataFrame eliminando o reemplazando valores nulos en la columna de texto.\n",
    "\n",
    "    Parameters:\n",
    "        data (DataFrame): Datos con texto y etiquetas.\n",
    "        text_column (str): Nombre de la columna de texto.\n",
    "\n",
    "    Returns:\n",
    "        DataFrame: Datos limpios.\n",
    "    \"\"\"\n",
    "    data[text_column] = data[text_column].fillna(\"\")  # Reemplazar NaN con cadena vacía\n",
    "    return data\n",
    "\n",
    "# Limpieza de los datos antes del preprocesamiento\n",
    "data = clean_data(data, \"texto\")"
   ]
  },
  {
   "cell_type": "code",
   "execution_count": 68,
   "metadata": {},
   "outputs": [],
   "source": [
    "# Preprocesamiento del texto\n",
    "def preprocess_text(data, text_column, label_columns):\n",
    "    \"\"\"\n",
    "    Preprocesa los textos y divide en conjuntos de entrenamiento y prueba.\n",
    "\n",
    "    Parameters:\n",
    "        data (DataFrame): Datos con columnas de texto y etiquetas.\n",
    "        text_column (str): Nombre de la columna con texto.\n",
    "        label_columns (list): Nombres de las columnas de etiquetas.\n",
    "\n",
    "    Returns:\n",
    "        X_train, X_test, y_train, y_test: Conjuntos de datos divididos.\n",
    "    \"\"\"\n",
    "    vectorizer = TfidfVectorizer(stop_words=spanish_stopwords)\n",
    "    X = vectorizer.fit_transform(data[text_column])\n",
    "    y = data[label_columns]\n",
    "    return train_test_split(X, y, test_size=0.2, random_state=42)\n",
    "\n",
    "text_column = \"texto\"  # Columna de texto\n",
    "label_columns = [\n",
    "    \"insulto\", \"amenaza\", \"rumores_difamatorios\", \"comentarios_humillantes\", \"lenguaje_discriminatorio\",\n",
    "    \"acoso_sexual\", \"manipulacion_emocional\", \"lenguaje_vulgar\", \"acoso_general\", \"redes_sociales\",\n",
    "    \"suicidio_autolesion\"\n",
    "]  # Columnas de etiquetas"
   ]
  },
  {
   "cell_type": "code",
   "execution_count": 69,
   "metadata": {},
   "outputs": [],
   "source": [
    "# Preprocesamiento\n",
    "X_train, X_test, y_train, y_test = preprocess_text(data, text_column, label_columns)"
   ]
  }
 ],
 "metadata": {
  "kernelspec": {
   "display_name": "Python 3",
   "language": "python",
   "name": "python3"
  },
  "language_info": {
   "codemirror_mode": {
    "name": "ipython",
    "version": 3
   },
   "file_extension": ".py",
   "mimetype": "text/x-python",
   "name": "python",
   "nbconvert_exporter": "python",
   "pygments_lexer": "ipython3",
   "version": "3.11.9"
  }
 },
 "nbformat": 4,
 "nbformat_minor": 2
}
