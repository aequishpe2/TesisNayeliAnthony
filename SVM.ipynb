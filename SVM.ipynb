{
 "cells": [
  {
   "cell_type": "code",
   "execution_count": 1,
   "metadata": {},
   "outputs": [],
   "source": [
    "import pandas as pd\n",
    "from pymongo import MongoClient\n",
    "from sklearn.model_selection import train_test_split\n",
    "from sklearn.feature_extraction.text import TfidfVectorizer\n",
    "from sklearn.metrics import classification_report\n",
    "from sklearn.metrics import accuracy_score\n",
    "from sklearn.ensemble import RandomForestClassifier\n",
    "\n",
    "from sklearn.multioutput import MultiOutputClassifier\n",
    "from sklearn.naive_bayes import MultinomialNB\n",
    "from sklearn.linear_model import LogisticRegression\n",
    "from sklearn.svm import SVC\n",
    "import nltk\n",
    "from nltk.corpus import stopwords"
   ]
  },
  {
   "cell_type": "code",
   "execution_count": 2,
   "metadata": {},
   "outputs": [
    {
     "name": "stderr",
     "output_type": "stream",
     "text": [
      "[nltk_data] Downloading package stopwords to\n",
      "[nltk_data]     C:\\Users\\antho\\AppData\\Roaming\\nltk_data...\n",
      "[nltk_data]   Package stopwords is already up-to-date!\n"
     ]
    }
   ],
   "source": [
    "# Descargar las stopwords en español\n",
    "nltk.download('stopwords')\n",
    "spanish_stopwords = stopwords.words('spanish')"
   ]
  },
  {
   "cell_type": "code",
   "execution_count": 3,
   "metadata": {},
   "outputs": [],
   "source": [
    "# Configuración de MongoDB\n",
    "MONGO_URI = \"mongodb://localhost:27017/\"  # Cambia esto si usas una configuración diferente\n",
    "DATABASE_NAME = \"tesis\"\n",
    "COLLECTION_NAME = \"ciberbullying\""
   ]
  },
  {
   "cell_type": "code",
   "execution_count": 4,
   "metadata": {},
   "outputs": [],
   "source": [
    "# --- Análisis de Procesamiento de Lenguaje Natural (PLN) ---\n",
    "\n",
    "# Cargar datos desde MongoDB\n",
    "def fetch_data_from_mongo(db_name, collection_name):\n",
    "    \"\"\"\n",
    "    Extrae datos de una colección MongoDB y los convierte en un DataFrame.\n",
    "    \"\"\"\n",
    "    client = MongoClient(MONGO_URI)\n",
    "    db = client[db_name]\n",
    "    collection = db[collection_name]\n",
    "    data = pd.DataFrame(list(collection.find()))\n",
    "    client.close()\n",
    "    return data\n",
    "\n",
    "data = fetch_data_from_mongo(DATABASE_NAME, COLLECTION_NAME)"
   ]
  },
  {
   "cell_type": "code",
   "execution_count": 5,
   "metadata": {},
   "outputs": [],
   "source": [
    "# Limpieza de datos\n",
    "def clean_data(data, text_column):\n",
    "    \"\"\"\n",
    "    Limpia el DataFrame eliminando o reemplazando valores nulos en la columna de texto.\n",
    "\n",
    "    Parameters:\n",
    "        data (DataFrame): Datos con texto y etiquetas.\n",
    "        text_column (str): Nombre de la columna de texto.\n",
    "\n",
    "    Returns:\n",
    "        DataFrame: Datos limpios.\n",
    "    \"\"\"\n",
    "    data[text_column] = data[text_column].fillna(\"\")  # Reemplazar NaN con cadena vacía\n",
    "    return data\n",
    "\n",
    "# Limpieza de los datos antes del preprocesamiento\n",
    "data = clean_data(data, \"texto\")"
   ]
  },
  {
   "cell_type": "code",
   "execution_count": 6,
   "metadata": {},
   "outputs": [],
   "source": [
    "# Preprocesamiento del texto\n",
    "def preprocess_text(data, text_column, label_columns):\n",
    "    \"\"\"\n",
    "    Preprocesa los textos y divide en conjuntos de entrenamiento y prueba.\n",
    "\n",
    "    Parameters:\n",
    "        data (DataFrame): Datos con columnas de texto y etiquetas.\n",
    "        text_column (str): Nombre de la columna con texto.\n",
    "        label_columns (list): Nombres de las columnas de etiquetas.\n",
    "\n",
    "    Returns:\n",
    "        X_train, X_test, y_train, y_test: Conjuntos de datos divididos.\n",
    "    \"\"\"\n",
    "    vectorizer = TfidfVectorizer(stop_words=spanish_stopwords)\n",
    "    X = vectorizer.fit_transform(data[text_column])\n",
    "    y = data[label_columns]\n",
    "    return train_test_split(X, y, test_size=0.2, random_state=42)\n",
    "\n",
    "text_column = \"texto\"  # Columna de texto\n",
    "label_columns = [\n",
    "    \"insulto\", \"amenaza\", \"rumores_difamatorios\", \"comentarios_humillantes\", \"lenguaje_discriminatorio\",\n",
    "    \"acoso_sexual\", \"manipulacion_emocional\", \"lenguaje_vulgar\", \"acoso_general\", \"redes_sociales\",\n",
    "    \"suicidio_autolesion\"\n",
    "]  # Columnas de etiquetas"
   ]
  },
  {
   "cell_type": "code",
   "execution_count": 7,
   "metadata": {},
   "outputs": [],
   "source": [
    "# Preprocesamiento\n",
    "X_train, X_test, y_train, y_test = preprocess_text(data, text_column, label_columns)"
   ]
  },
  {
   "cell_type": "code",
   "execution_count": 8,
   "metadata": {},
   "outputs": [
    {
     "name": "stdout",
     "output_type": "stream",
     "text": [
      "\n",
      "Reporte de métricas para SVM (multietiqueta):\n",
      "\n",
      "Etiqueta: insulto\n",
      "              precision    recall  f1-score   support\n",
      "\n",
      "       False       0.99      1.00      1.00      8615\n",
      "        True       1.00      0.96      0.98      1347\n",
      "\n",
      "    accuracy                           0.99      9962\n",
      "   macro avg       1.00      0.98      0.99      9962\n",
      "weighted avg       0.99      0.99      0.99      9962\n",
      "\n",
      "\n",
      "Etiqueta: amenaza\n",
      "              precision    recall  f1-score   support\n",
      "\n",
      "       False       1.00      1.00      1.00      9840\n",
      "        True       1.00      0.61      0.76       122\n",
      "\n",
      "    accuracy                           1.00      9962\n",
      "   macro avg       1.00      0.80      0.88      9962\n",
      "weighted avg       1.00      1.00      0.99      9962\n",
      "\n",
      "\n",
      "Etiqueta: rumores_difamatorios\n",
      "              precision    recall  f1-score   support\n",
      "\n",
      "       False       0.99      1.00      1.00      9369\n",
      "        True       1.00      0.86      0.92       593\n",
      "\n",
      "    accuracy                           0.99      9962\n",
      "   macro avg       1.00      0.93      0.96      9962\n",
      "weighted avg       0.99      0.99      0.99      9962\n",
      "\n",
      "\n",
      "Etiqueta: comentarios_humillantes\n",
      "              precision    recall  f1-score   support\n",
      "\n",
      "       False       1.00      1.00      1.00      9856\n",
      "        True       1.00      0.76      0.87       106\n",
      "\n",
      "    accuracy                           1.00      9962\n",
      "   macro avg       1.00      0.88      0.93      9962\n",
      "weighted avg       1.00      1.00      1.00      9962\n",
      "\n",
      "\n",
      "Etiqueta: lenguaje_discriminatorio\n",
      "              precision    recall  f1-score   support\n",
      "\n",
      "       False       0.99      1.00      1.00      8206\n",
      "        True       1.00      0.96      0.98      1756\n",
      "\n",
      "    accuracy                           0.99      9962\n",
      "   macro avg       1.00      0.98      0.99      9962\n",
      "weighted avg       0.99      0.99      0.99      9962\n",
      "\n",
      "\n",
      "Etiqueta: acoso_sexual\n",
      "              precision    recall  f1-score   support\n",
      "\n",
      "       False       1.00      1.00      1.00      7542\n",
      "        True       1.00      0.99      0.99      2420\n",
      "\n",
      "    accuracy                           1.00      9962\n",
      "   macro avg       1.00      0.99      1.00      9962\n",
      "weighted avg       1.00      1.00      1.00      9962\n",
      "\n",
      "\n",
      "Etiqueta: manipulacion_emocional\n",
      "              precision    recall  f1-score   support\n",
      "\n",
      "       False       1.00      1.00      1.00      9962\n",
      "\n",
      "    accuracy                           1.00      9962\n",
      "   macro avg       1.00      1.00      1.00      9962\n",
      "weighted avg       1.00      1.00      1.00      9962\n",
      "\n",
      "\n",
      "Etiqueta: lenguaje_vulgar\n",
      "              precision    recall  f1-score   support\n",
      "\n",
      "       False       0.99      1.00      1.00      9021\n",
      "        True       1.00      0.92      0.96       941\n",
      "\n",
      "    accuracy                           0.99      9962\n",
      "   macro avg       1.00      0.96      0.98      9962\n",
      "weighted avg       0.99      0.99      0.99      9962\n",
      "\n",
      "\n",
      "Etiqueta: acoso_general\n",
      "              precision    recall  f1-score   support\n",
      "\n",
      "       False       0.99      1.00      1.00      9756\n",
      "        True       1.00      0.70      0.83       206\n",
      "\n",
      "    accuracy                           0.99      9962\n",
      "   macro avg       1.00      0.85      0.91      9962\n",
      "weighted avg       0.99      0.99      0.99      9962\n",
      "\n",
      "\n",
      "Etiqueta: redes_sociales\n",
      "              precision    recall  f1-score   support\n",
      "\n",
      "       False       1.00      1.00      1.00      9899\n",
      "        True       1.00      0.41      0.58        63\n",
      "\n",
      "    accuracy                           1.00      9962\n",
      "   macro avg       1.00      0.71      0.79      9962\n",
      "weighted avg       1.00      1.00      1.00      9962\n",
      "\n",
      "\n",
      "Etiqueta: suicidio_autolesion\n",
      "              precision    recall  f1-score   support\n",
      "\n",
      "       False       1.00      1.00      1.00      9933\n",
      "        True       1.00      0.41      0.59        29\n",
      "\n",
      "    accuracy                           1.00      9962\n",
      "   macro avg       1.00      0.71      0.79      9962\n",
      "weighted avg       1.00      1.00      1.00      9962\n",
      "\n"
     ]
    }
   ],
   "source": [
    "# --- Modelo de Machine Learning: SVM ---\n",
    "svm_base_model = SVC(kernel='linear', random_state=42)\n",
    "svm_model = MultiOutputClassifier(svm_base_model)\n",
    "svm_model.fit(X_train, y_train)\n",
    "svm_predictions = svm_model.predict(X_test)\n",
    "\n",
    "print(\"\\nReporte de métricas para SVM (multietiqueta):\")\n",
    "for i, column in enumerate(label_columns):\n",
    "    print(f\"\\nEtiqueta: {column}\")\n",
    "    print(classification_report(y_test.iloc[:, i], svm_predictions[:, i]))"
   ]
  },
  {
   "cell_type": "code",
   "execution_count": 10,
   "metadata": {},
   "outputs": [
    {
     "name": "stdout",
     "output_type": "stream",
     "text": [
      "\n",
      "Accuracy general para SVM: 0.96\n"
     ]
    }
   ],
   "source": [
    "# Evaluación general\n",
    "from sklearn.metrics import accuracy_score\n",
    "svm_accuracy = accuracy_score(y_test.values, svm_predictions)\n",
    "print(f\"\\nAccuracy general para SVM: {svm_accuracy:.2f}\")"
   ]
  }
 ],
 "metadata": {
  "kernelspec": {
   "display_name": "Python 3",
   "language": "python",
   "name": "python3"
  },
  "language_info": {
   "codemirror_mode": {
    "name": "ipython",
    "version": 3
   },
   "file_extension": ".py",
   "mimetype": "text/x-python",
   "name": "python",
   "nbconvert_exporter": "python",
   "pygments_lexer": "ipython3",
   "version": "3.11.9"
  }
 },
 "nbformat": 4,
 "nbformat_minor": 2
}
