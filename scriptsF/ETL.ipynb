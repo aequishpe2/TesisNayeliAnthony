{
 "cells": [
  {
   "cell_type": "code",
   "execution_count": 1,
   "metadata": {},
   "outputs": [],
   "source": [
    "import pandas as pd\n",
    "import re\n",
    "import unicodedata"
   ]
  },
  {
   "cell_type": "code",
   "execution_count": 5,
   "metadata": {},
   "outputs": [],
   "source": [
    "# Cargar el archivo CSV\n",
    "def load_data(file_path):\n",
    "    \"\"\"Carga el archivo CSV en un DataFrame.\"\"\"\n",
    "    return pd.read_csv(file_path)\n",
    "\n",
    "# Función para limpiar texto y conservar caracteres válidos eliminando solo las tildes\n",
    "def remove_accents(text):\n",
    "    \"\"\"Elimina tildes y normaliza el texto.\"\"\"\n",
    "    if isinstance(text, str):\n",
    "        # Normalizar texto a forma 'NFD' y eliminar solo los acentos\n",
    "        text = unicodedata.normalize('NFD', text)\n",
    "        text = ''.join(c for c in text if unicodedata.category(c) != 'Mn')\n",
    "        # Convertir a minúsculas y eliminar caracteres no deseados\n",
    "        text = re.sub(r'[^\\w\\s.,?!]', '', text).strip().lower()\n",
    "        return text\n",
    "    return \"\"\n",
    "\n",
    "# Eliminar columnas no deseadas\n",
    "def drop_columns(data, columns):\n",
    "    \"\"\"Elimina las columnas especificadas del DataFrame.\"\"\"\n",
    "    return data.drop(columns=columns, errors='ignore')\n",
    "\n",
    "# Aplicar limpieza al texto\n",
    "def clean_text_column(data, column_name):\n",
    "    \"\"\"Crea una nueva columna con el texto limpio.\"\"\"\n",
    "    data[f'{column_name}_cleaned'] = data[column_name].apply(remove_accents)\n",
    "    return data\n",
    "\n",
    "# Guardar el dataset limpio\n",
    "def save_cleaned_data(data, output_path):\n",
    "    \"\"\"Guarda el DataFrame limpio en un archivo CSV.\"\"\"\n",
    "    data.to_csv(output_path, index=False)\n"
   ]
  },
  {
   "cell_type": "code",
   "execution_count": 6,
   "metadata": {},
   "outputs": [],
   "source": [
    "# Pipeline ETL\n",
    "def etl_pipeline(input_file, output_file):\n",
    "    \"\"\"Ejecuta el proceso ETL completo.\"\"\"\n",
    "    # Extracción\n",
    "    data = load_data(input_file)\n",
    "    \n",
    "    # Transformación\n",
    "    data = drop_columns(data, ['index', 'Date'])\n",
    "    data = clean_text_column(data, 'Text')\n",
    "    \n",
    "    # Carga\n",
    "    save_cleaned_data(data, output_file)\n",
    "    print(f\"El dataset limpio ha sido guardado en: {output_file}\")\n"
   ]
  },
  {
   "cell_type": "code",
   "execution_count": 7,
   "metadata": {},
   "outputs": [
    {
     "name": "stdout",
     "output_type": "stream",
     "text": [
      "El dataset limpio ha sido guardado en: C:\\Tesis\\dataset_spanish.csv\n"
     ]
    }
   ],
   "source": [
    "# Rutas del archivo de entrada y salida\n",
    "input_file = 'C:\\Tesis\\data\\dataset_spanish (1).csv'\n",
    "output_file = 'C:\\Tesis\\dataset_spanish.csv'\n",
    "\n",
    "# Ejecutar el pipeline ETL\n",
    "etl_pipeline(input_file, output_file)"
   ]
  }
 ],
 "metadata": {
  "kernelspec": {
   "display_name": "Python 3",
   "language": "python",
   "name": "python3"
  },
  "language_info": {
   "codemirror_mode": {
    "name": "ipython",
    "version": 3
   },
   "file_extension": ".py",
   "mimetype": "text/x-python",
   "name": "python",
   "nbconvert_exporter": "python",
   "pygments_lexer": "ipython3",
   "version": "3.11.9"
  }
 },
 "nbformat": 4,
 "nbformat_minor": 2
}
