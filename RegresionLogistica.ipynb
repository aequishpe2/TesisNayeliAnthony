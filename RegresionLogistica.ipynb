{
 "cells": [
  {
   "cell_type": "code",
   "execution_count": 10,
   "metadata": {},
   "outputs": [],
   "source": [
    "import pandas as pd\n",
    "from pymongo import MongoClient\n",
    "from sklearn.model_selection import train_test_split\n",
    "from sklearn.feature_extraction.text import TfidfVectorizer\n",
    "from sklearn.metrics import classification_report\n",
    "from sklearn.metrics import accuracy_score\n",
    "from sklearn.ensemble import RandomForestClassifier\n",
    "\n",
    "from sklearn.multioutput import MultiOutputClassifier\n",
    "from sklearn.naive_bayes import MultinomialNB\n",
    "from sklearn.linear_model import LogisticRegression\n",
    "from sklearn.svm import SVC\n",
    "import nltk\n",
    "from nltk.corpus import stopwords"
   ]
  },
  {
   "cell_type": "code",
   "execution_count": 11,
   "metadata": {},
   "outputs": [
    {
     "name": "stderr",
     "output_type": "stream",
     "text": [
      "[nltk_data] Downloading package stopwords to\n",
      "[nltk_data]     C:\\Users\\antho\\AppData\\Roaming\\nltk_data...\n",
      "[nltk_data]   Package stopwords is already up-to-date!\n"
     ]
    }
   ],
   "source": [
    "# Descargar las stopwords en español\n",
    "nltk.download('stopwords')\n",
    "spanish_stopwords = stopwords.words('spanish')"
   ]
  },
  {
   "cell_type": "code",
   "execution_count": 12,
   "metadata": {},
   "outputs": [],
   "source": [
    "# Configuración de MongoDB\n",
    "MONGO_URI = \"mongodb://localhost:27017/\"  # Cambia esto si usas una configuración diferente\n",
    "DATABASE_NAME = \"tesis\"\n",
    "COLLECTION_NAME = \"ciberbullying\""
   ]
  },
  {
   "cell_type": "code",
   "execution_count": 13,
   "metadata": {},
   "outputs": [],
   "source": [
    "# --- Análisis de Procesamiento de Lenguaje Natural (PLN) ---\n",
    "\n",
    "# Cargar datos desde MongoDB\n",
    "def fetch_data_from_mongo(db_name, collection_name):\n",
    "    \"\"\"\n",
    "    Extrae datos de una colección MongoDB y los convierte en un DataFrame.\n",
    "    \"\"\"\n",
    "    client = MongoClient(MONGO_URI)\n",
    "    db = client[db_name]\n",
    "    collection = db[collection_name]\n",
    "    data = pd.DataFrame(list(collection.find()))\n",
    "    client.close()\n",
    "    return data\n",
    "\n",
    "data = fetch_data_from_mongo(DATABASE_NAME, COLLECTION_NAME)"
   ]
  },
  {
   "cell_type": "code",
   "execution_count": 14,
   "metadata": {},
   "outputs": [],
   "source": [
    "# Limpieza de datos\n",
    "def clean_data(data, text_column):\n",
    "    \"\"\"\n",
    "    Limpia el DataFrame eliminando o reemplazando valores nulos en la columna de texto.\n",
    "\n",
    "    Parameters:\n",
    "        data (DataFrame): Datos con texto y etiquetas.\n",
    "        text_column (str): Nombre de la columna de texto.\n",
    "\n",
    "    Returns:\n",
    "        DataFrame: Datos limpios.\n",
    "    \"\"\"\n",
    "    data[text_column] = data[text_column].fillna(\"\")  # Reemplazar NaN con cadena vacía\n",
    "    return data\n",
    "\n",
    "# Limpieza de los datos antes del preprocesamiento\n",
    "data = clean_data(data, \"texto\")"
   ]
  },
  {
   "cell_type": "code",
   "execution_count": 15,
   "metadata": {},
   "outputs": [],
   "source": [
    "# Preprocesamiento del texto\n",
    "def preprocess_text(data, text_column, label_columns):\n",
    "    \"\"\"\n",
    "    Preprocesa los textos y divide en conjuntos de entrenamiento y prueba.\n",
    "\n",
    "    Parameters:\n",
    "        data (DataFrame): Datos con columnas de texto y etiquetas.\n",
    "        text_column (str): Nombre de la columna con texto.\n",
    "        label_columns (list): Nombres de las columnas de etiquetas.\n",
    "\n",
    "    Returns:\n",
    "        X_train, X_test, y_train, y_test: Conjuntos de datos divididos.\n",
    "    \"\"\"\n",
    "    vectorizer = TfidfVectorizer(stop_words=spanish_stopwords)\n",
    "    X = vectorizer.fit_transform(data[text_column])\n",
    "    y = data[label_columns]\n",
    "    return train_test_split(X, y, test_size=0.2, random_state=42)\n",
    "\n",
    "text_column = \"texto\"  # Columna de texto\n",
    "label_columns = [\n",
    "    \"insulto\", \"amenaza\", \"rumores_difamatorios\", \"comentarios_humillantes\", \"lenguaje_discriminatorio\",\n",
    "    \"acoso_sexual\", \"manipulacion_emocional\", \"lenguaje_vulgar\", \"acoso_general\", \"redes_sociales\",\n",
    "    \"suicidio_autolesion\"\n",
    "]  # Columnas de etiquetas"
   ]
  },
  {
   "cell_type": "code",
   "execution_count": 16,
   "metadata": {},
   "outputs": [],
   "source": [
    "# Preprocesamiento\n",
    "X_train, X_test, y_train, y_test = preprocess_text(data, text_column, label_columns)"
   ]
  },
  {
   "cell_type": "code",
   "execution_count": 17,
   "metadata": {},
   "outputs": [],
   "source": [
    "# --- Modelo de Machine Learning: Regresión Logística ---\n",
    "lr_base_model = LogisticRegression(max_iter=1000, random_state=42)\n",
    "lr_model = MultiOutputClassifier(lr_base_model)\n",
    "lr_model.fit(X_train, y_train)\n",
    "lr_predictions = lr_model.predict(X_test)"
   ]
  },
  {
   "cell_type": "code",
   "execution_count": 18,
   "metadata": {},
   "outputs": [
    {
     "name": "stdout",
     "output_type": "stream",
     "text": [
      "\n",
      "Reporte de métricas para Regresión Logística (multietiqueta):\n",
      "\n",
      "Etiqueta: insulto\n",
      "              precision    recall  f1-score   support\n",
      "\n",
      "       False       0.97      1.00      0.98      8615\n",
      "        True       1.00      0.77      0.87      1347\n",
      "\n",
      "    accuracy                           0.97      9962\n",
      "   macro avg       0.98      0.88      0.93      9962\n",
      "weighted avg       0.97      0.97      0.97      9962\n",
      "\n",
      "\n",
      "Etiqueta: amenaza\n",
      "              precision    recall  f1-score   support\n",
      "\n",
      "       False       0.99      1.00      0.99      9840\n",
      "        True       1.00      0.16      0.28       122\n",
      "\n",
      "    accuracy                           0.99      9962\n",
      "   macro avg       0.99      0.58      0.64      9962\n",
      "weighted avg       0.99      0.99      0.99      9962\n",
      "\n",
      "\n",
      "Etiqueta: rumores_difamatorios\n",
      "              precision    recall  f1-score   support\n",
      "\n",
      "       False       0.97      1.00      0.99      9369\n",
      "        True       1.00      0.52      0.69       593\n",
      "\n",
      "    accuracy                           0.97      9962\n",
      "   macro avg       0.99      0.76      0.84      9962\n",
      "weighted avg       0.97      0.97      0.97      9962\n",
      "\n",
      "\n",
      "Etiqueta: comentarios_humillantes\n",
      "              precision    recall  f1-score   support\n",
      "\n",
      "       False       0.99      1.00      1.00      9856\n",
      "        True       1.00      0.20      0.33       106\n",
      "\n",
      "    accuracy                           0.99      9962\n",
      "   macro avg       1.00      0.60      0.66      9962\n",
      "weighted avg       0.99      0.99      0.99      9962\n",
      "\n",
      "\n",
      "Etiqueta: lenguaje_discriminatorio\n",
      "              precision    recall  f1-score   support\n",
      "\n",
      "       False       0.97      1.00      0.99      8206\n",
      "        True       1.00      0.88      0.94      1756\n",
      "\n",
      "    accuracy                           0.98      9962\n",
      "   macro avg       0.99      0.94      0.96      9962\n",
      "weighted avg       0.98      0.98      0.98      9962\n",
      "\n",
      "\n",
      "Etiqueta: acoso_sexual\n",
      "              precision    recall  f1-score   support\n",
      "\n",
      "       False       0.99      1.00      0.99      7542\n",
      "        True       1.00      0.96      0.98      2420\n",
      "\n",
      "    accuracy                           0.99      9962\n",
      "   macro avg       0.99      0.98      0.99      9962\n",
      "weighted avg       0.99      0.99      0.99      9962\n",
      "\n",
      "\n",
      "Etiqueta: manipulacion_emocional\n",
      "              precision    recall  f1-score   support\n",
      "\n",
      "       False       1.00      1.00      1.00      9962\n",
      "\n",
      "    accuracy                           1.00      9962\n",
      "   macro avg       1.00      1.00      1.00      9962\n",
      "weighted avg       1.00      1.00      1.00      9962\n",
      "\n",
      "\n",
      "Etiqueta: lenguaje_vulgar\n",
      "              precision    recall  f1-score   support\n",
      "\n",
      "       False       0.97      1.00      0.98      9021\n",
      "        True       1.00      0.69      0.82       941\n",
      "\n",
      "    accuracy                           0.97      9962\n",
      "   macro avg       0.98      0.84      0.90      9962\n",
      "weighted avg       0.97      0.97      0.97      9962\n",
      "\n",
      "\n",
      "Etiqueta: acoso_general\n",
      "              precision    recall  f1-score   support\n",
      "\n",
      "       False       0.98      1.00      0.99      9756\n",
      "        True       1.00      0.20      0.34       206\n",
      "\n",
      "    accuracy                           0.98      9962\n",
      "   macro avg       0.99      0.60      0.67      9962\n",
      "weighted avg       0.98      0.98      0.98      9962\n",
      "\n",
      "\n",
      "Etiqueta: redes_sociales\n",
      "              precision    recall  f1-score   support\n",
      "\n",
      "       False       0.99      1.00      1.00      9899\n",
      "        True       1.00      0.05      0.09        63\n",
      "\n",
      "    accuracy                           0.99      9962\n",
      "   macro avg       1.00      0.52      0.54      9962\n",
      "weighted avg       0.99      0.99      0.99      9962\n",
      "\n",
      "\n",
      "Etiqueta: suicidio_autolesion\n",
      "              precision    recall  f1-score   support\n",
      "\n",
      "       False       1.00      1.00      1.00      9933\n",
      "        True       1.00      0.03      0.07        29\n",
      "\n",
      "    accuracy                           1.00      9962\n",
      "   macro avg       1.00      0.52      0.53      9962\n",
      "weighted avg       1.00      1.00      1.00      9962\n",
      "\n"
     ]
    }
   ],
   "source": [
    "# Evaluación del modelo por etiqueta\n",
    "print(\"\\nReporte de métricas para Regresión Logística (multietiqueta):\")\n",
    "for i, column in enumerate(label_columns):\n",
    "    print(f\"\\nEtiqueta: {column}\")\n",
    "    print(classification_report(y_test.iloc[:, i], lr_predictions[:, i]))"
   ]
  },
  {
   "cell_type": "code",
   "execution_count": 20,
   "metadata": {},
   "outputs": [
    {
     "name": "stdout",
     "output_type": "stream",
     "text": [
      "\n",
      "Accuracy para Regresión Logística: 0.86\n"
     ]
    }
   ],
   "source": [
    "# Evaluación general\n",
    "lr_accuracy = accuracy_score(y_test.values, lr_predictions)\n",
    "print(f\"\\nAccuracy para Regresión Logística: {lr_accuracy:.2f}\")"
   ]
  }
 ],
 "metadata": {
  "kernelspec": {
   "display_name": "Python 3",
   "language": "python",
   "name": "python3"
  },
  "language_info": {
   "codemirror_mode": {
    "name": "ipython",
    "version": 3
   },
   "file_extension": ".py",
   "mimetype": "text/x-python",
   "name": "python",
   "nbconvert_exporter": "python",
   "pygments_lexer": "ipython3",
   "version": "3.11.9"
  }
 },
 "nbformat": 4,
 "nbformat_minor": 2
}
