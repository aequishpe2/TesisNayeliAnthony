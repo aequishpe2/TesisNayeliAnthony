{
 "cells": [
  {
   "cell_type": "code",
   "execution_count": null,
   "metadata": {},
   "outputs": [],
   "source": [
    "import pandas as pd\n",
    "import re\n",
    "from nltk.corpus import stopwords\n",
    "import nltk\n",
    "import matplotlib.pyplot as plt\n",
    "from collections import Counter\n",
    "\n",
    "# Ensure stopwords are downloaded\n",
    "nltk.download('stopwords')\n",
    "spanish_stopwords = set(stopwords.words('spanish'))"
   ]
  },
  {
   "cell_type": "code",
   "execution_count": null,
   "metadata": {},
   "outputs": [],
   "source": [
    "# Load the CSV file\n",
    "file_path = 'comentarios.csv'  # Asegúrate de usar la ruta correcta\n",
    "comentarios_data = pd.read_csv(file_path)\n",
    "\n",
    "# Remove rows with missing values in 'texto'\n",
    "comentarios_data.dropna(subset=['texto'], inplace=True)\n",
    "\n",
    "# Clean and normalize text\n",
    "def clean_text(text):\n",
    "    text = text.lower()  # Convert to lowercase\n",
    "    text = re.sub(r'\\n', ' ', text)  # Remove newlines\n",
    "    text = re.sub(r'[^\\w\\sáéíóúüñ\\U0001F600-\\U0001F64F]', '', text)  # Keep emojis and alphanumerics\n",
    "    text = re.sub(r'\\s+', ' ', text).strip()  # Remove extra spaces\n",
    "    words = text.split()\n",
    "    words = [word for word in words if word not in spanish_stopwords]  # Remove stopwords\n",
    "    return ' '.join(words)\n",
    "\n",
    "comentarios_data['texto_limpio'] = comentarios_data['texto'].apply(clean_text)"
   ]
  },
  {
   "cell_type": "code",
   "execution_count": null,
   "metadata": {},
   "outputs": [],
   "source": [
    "# Define the keyword dictionary\n",
    "cyberbullying_categories = {\n",
    "    'insulto': ['idiota', 'estúpido', 'tonto', 'imbécil', 'fea', 'gordo', 'inútil'],\n",
    "    'amenaza': ['matar', 'lastimar', 'destruir', 'te voy a', 'te arrepentirás'],\n",
    "    # Añade el resto de categorías aquí...\n",
    "}\n",
    "\n",
    "# Add columns for each category\n",
    "for category, keywords in cyberbullying_categories.items():\n",
    "    comentarios_data[category] = comentarios_data['texto_limpio'].apply(\n",
    "        lambda text: any(keyword in text for keyword in keywords)\n",
    "    )\n"
   ]
  },
  {
   "cell_type": "code",
   "execution_count": null,
   "metadata": {},
   "outputs": [],
   "source": [
    "# 1. Distribution of categories\n",
    "category_counts = comentarios_data[list(cyberbullying_categories.keys())].sum()\n",
    "category_counts.sort_values(ascending=False, inplace=True)\n",
    "\n",
    "plt.figure(figsize=(10, 6))\n",
    "category_counts.plot(kind='bar', color='skyblue')\n",
    "plt.title('Distribution of Cyberbullying Categories')\n",
    "plt.ylabel('Number of Texts')\n",
    "plt.xlabel('Category')\n",
    "plt.xticks(rotation=45)\n",
    "plt.tight_layout()\n",
    "plt.show()\n",
    "\n",
    "# 2. Word frequency analysis\n",
    "all_words = ' '.join(comentarios_data['texto_limpio']).split()\n",
    "word_freq = Counter(all_words).most_common(20)\n",
    "\n",
    "words, counts = zip(*word_freq)\n",
    "plt.figure(figsize=(10, 6))\n",
    "plt.bar(words, counts, color='orange')\n",
    "plt.title('Top 20 Most Frequent Words')\n",
    "plt.ylabel('Frequency')\n",
    "plt.xlabel('Words')\n",
    "plt.xticks(rotation=45)\n",
    "plt.tight_layout()\n",
    "plt.show()\n"
   ]
  }
 ],
 "metadata": {
  "language_info": {
   "name": "python"
  }
 },
 "nbformat": 4,
 "nbformat_minor": 2
}
