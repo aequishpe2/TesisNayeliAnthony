{
 "cells": [
  {
   "cell_type": "code",
   "execution_count": 10,
   "metadata": {},
   "outputs": [],
   "source": [
    "import pandas as pd\n",
    "from pymongo import MongoClient\n",
    "from sklearn.model_selection import train_test_split\n",
    "from sklearn.feature_extraction.text import TfidfVectorizer\n",
    "from sklearn.metrics import classification_report\n",
    "from sklearn.metrics import accuracy_score\n",
    "from sklearn.ensemble import RandomForestClassifier\n",
    "\n",
    "from sklearn.multioutput import MultiOutputClassifier\n",
    "from sklearn.naive_bayes import MultinomialNB\n",
    "from sklearn.linear_model import LogisticRegression\n",
    "from sklearn.svm import SVC\n",
    "import nltk\n",
    "from nltk.corpus import stopwords"
   ]
  },
  {
   "cell_type": "code",
   "execution_count": 11,
   "metadata": {},
   "outputs": [
    {
     "name": "stderr",
     "output_type": "stream",
     "text": [
      "[nltk_data] Downloading package stopwords to\n",
      "[nltk_data]     C:\\Users\\antho\\AppData\\Roaming\\nltk_data...\n",
      "[nltk_data]   Package stopwords is already up-to-date!\n"
     ]
    }
   ],
   "source": [
    "# Descargar las stopwords en español\n",
    "nltk.download('stopwords')\n",
    "spanish_stopwords = stopwords.words('spanish')"
   ]
  },
  {
   "cell_type": "code",
   "execution_count": 12,
   "metadata": {},
   "outputs": [],
   "source": [
    "# Configuración de MongoDB\n",
    "MONGO_URI = \"mongodb://localhost:27017/\"  # Cambia esto si usas una configuración diferente\n",
    "DATABASE_NAME = \"tesis\"\n",
    "COLLECTION_NAME = \"ciberbullying\""
   ]
  },
  {
   "cell_type": "code",
   "execution_count": 13,
   "metadata": {},
   "outputs": [],
   "source": [
    "# --- Análisis de Procesamiento de Lenguaje Natural (PLN) ---\n",
    "\n",
    "# Cargar datos desde MongoDB\n",
    "def fetch_data_from_mongo(db_name, collection_name):\n",
    "    \"\"\"\n",
    "    Extrae datos de una colección MongoDB y los convierte en un DataFrame.\n",
    "    \"\"\"\n",
    "    client = MongoClient(MONGO_URI)\n",
    "    db = client[db_name]\n",
    "    collection = db[collection_name]\n",
    "    data = pd.DataFrame(list(collection.find()))\n",
    "    client.close()\n",
    "    return data\n",
    "\n",
    "data = fetch_data_from_mongo(DATABASE_NAME, COLLECTION_NAME)"
   ]
  },
  {
   "cell_type": "code",
   "execution_count": 14,
   "metadata": {},
   "outputs": [],
   "source": [
    "# Limpieza de datos\n",
    "def clean_data(data, text_column):\n",
    "    \"\"\"\n",
    "    Limpia el DataFrame eliminando o reemplazando valores nulos en la columna de texto.\n",
    "\n",
    "    Parameters:\n",
    "        data (DataFrame): Datos con texto y etiquetas.\n",
    "        text_column (str): Nombre de la columna de texto.\n",
    "\n",
    "    Returns:\n",
    "        DataFrame: Datos limpios.\n",
    "    \"\"\"\n",
    "    data[text_column] = data[text_column].fillna(\"\")  # Reemplazar NaN con cadena vacía\n",
    "    return data\n",
    "\n",
    "# Limpieza de los datos antes del preprocesamiento\n",
    "data = clean_data(data, \"texto\")"
   ]
  },
  {
   "cell_type": "code",
   "execution_count": 15,
   "metadata": {},
   "outputs": [],
   "source": [
    "# Preprocesamiento del texto\n",
    "def preprocess_text(data, text_column, label_columns):\n",
    "    \"\"\"\n",
    "    Preprocesa los textos y divide en conjuntos de entrenamiento y prueba.\n",
    "\n",
    "    Parameters:\n",
    "        data (DataFrame): Datos con columnas de texto y etiquetas.\n",
    "        text_column (str): Nombre de la columna con texto.\n",
    "        label_columns (list): Nombres de las columnas de etiquetas.\n",
    "\n",
    "    Returns:\n",
    "        X_train, X_test, y_train, y_test: Conjuntos de datos divididos.\n",
    "    \"\"\"\n",
    "    vectorizer = TfidfVectorizer(stop_words=spanish_stopwords)\n",
    "    X = vectorizer.fit_transform(data[text_column])\n",
    "    y = data[label_columns]\n",
    "    return train_test_split(X, y, test_size=0.2, random_state=42)\n",
    "\n",
    "text_column = \"texto\"  # Columna de texto\n",
    "label_columns = [\n",
    "    \"insulto\", \"amenaza\", \"rumores_difamatorios\", \"comentarios_humillantes\", \"lenguaje_discriminatorio\",\n",
    "    \"acoso_sexual\", \"manipulacion_emocional\", \"lenguaje_vulgar\", \"acoso_general\", \"redes_sociales\",\n",
    "    \"suicidio_autolesion\"\n",
    "]  # Columnas de etiquetas"
   ]
  },
  {
   "cell_type": "code",
   "execution_count": 16,
   "metadata": {},
   "outputs": [],
   "source": [
    "# Preprocesamiento\n",
    "X_train, X_test, y_train, y_test = preprocess_text(data, text_column, label_columns)"
   ]
  },
  {
   "cell_type": "code",
   "execution_count": 17,
   "metadata": {},
   "outputs": [],
   "source": [
    "# --- Modelo de Machine Learning: Naive Bayes ---\n",
    "nb_model = MultiOutputClassifier(MultinomialNB())\n",
    "nb_model.fit(X_train, y_train)\n",
    "nb_predictions = nb_model.predict(X_test)"
   ]
  },
  {
   "cell_type": "code",
   "execution_count": 19,
   "metadata": {},
   "outputs": [
    {
     "name": "stdout",
     "output_type": "stream",
     "text": [
      "\n",
      "Reporte de métricas para Naive Bayes (multietiqueta):\n",
      "\n",
      "Etiqueta: insulto\n",
      "              precision    recall  f1-score   support\n",
      "\n",
      "       False       0.88      1.00      0.94      8615\n",
      "        True       0.97      0.13      0.23      1347\n",
      "\n",
      "    accuracy                           0.88      9962\n",
      "   macro avg       0.92      0.56      0.58      9962\n",
      "weighted avg       0.89      0.88      0.84      9962\n",
      "\n",
      "Accuracy para insulto: 0.88\n",
      "\n",
      "Etiqueta: amenaza\n",
      "              precision    recall  f1-score   support\n",
      "\n",
      "       False       0.99      1.00      0.99      9840\n",
      "        True       0.00      0.00      0.00       122\n",
      "\n",
      "    accuracy                           0.99      9962\n",
      "   macro avg       0.49      0.50      0.50      9962\n",
      "weighted avg       0.98      0.99      0.98      9962\n",
      "\n",
      "Accuracy para amenaza: 0.99\n",
      "\n",
      "Etiqueta: rumores_difamatorios\n",
      "              precision    recall  f1-score   support\n",
      "\n",
      "       False       0.94      1.00      0.97      9369\n",
      "        True       0.70      0.02      0.05       593\n",
      "\n",
      "    accuracy                           0.94      9962\n",
      "   macro avg       0.82      0.51      0.51      9962\n",
      "weighted avg       0.93      0.94      0.91      9962\n",
      "\n",
      "Accuracy para rumores_difamatorios: 0.94\n",
      "\n",
      "Etiqueta: comentarios_humillantes\n",
      "              precision    recall  f1-score   support\n",
      "\n",
      "       False       0.99      1.00      0.99      9856\n",
      "        True       0.00      0.00      0.00       106\n",
      "\n",
      "    accuracy                           0.99      9962\n",
      "   macro avg       0.49      0.50      0.50      9962\n",
      "weighted avg       0.98      0.99      0.98      9962\n",
      "\n",
      "Accuracy para comentarios_humillantes: 0.99\n",
      "\n",
      "Etiqueta: lenguaje_discriminatorio\n",
      "              precision    recall  f1-score   support\n",
      "\n",
      "       False       0.86      1.00      0.93      8206\n",
      "        True       0.98      0.27      0.42      1756\n",
      "\n",
      "    accuracy                           0.87      9962\n",
      "   macro avg       0.92      0.63      0.67      9962\n",
      "weighted avg       0.88      0.87      0.84      9962\n",
      "\n",
      "Accuracy para lenguaje_discriminatorio: 0.87\n",
      "\n",
      "Etiqueta: acoso_sexual\n",
      "              precision    recall  f1-score   support\n",
      "\n",
      "       False       0.86      1.00      0.92      7542\n",
      "        True       0.98      0.49      0.65      2420\n",
      "\n",
      "    accuracy                           0.87      9962\n",
      "   macro avg       0.92      0.74      0.79      9962\n",
      "weighted avg       0.89      0.87      0.86      9962\n",
      "\n",
      "Accuracy para acoso_sexual: 0.87\n",
      "\n",
      "Etiqueta: manipulacion_emocional\n",
      "              precision    recall  f1-score   support\n",
      "\n",
      "       False       1.00      1.00      1.00      9962\n",
      "\n",
      "    accuracy                           1.00      9962\n",
      "   macro avg       1.00      1.00      1.00      9962\n",
      "weighted avg       1.00      1.00      1.00      9962\n",
      "\n",
      "Accuracy para manipulacion_emocional: 1.00\n",
      "\n",
      "Etiqueta: lenguaje_vulgar\n",
      "              precision    recall  f1-score   support\n",
      "\n",
      "       False       0.91      1.00      0.95      9021\n",
      "        True       0.88      0.05      0.10       941\n",
      "\n",
      "    accuracy                           0.91      9962\n",
      "   macro avg       0.89      0.53      0.53      9962\n",
      "weighted avg       0.91      0.91      0.87      9962\n",
      "\n",
      "Accuracy para lenguaje_vulgar: 0.91\n",
      "\n",
      "Etiqueta: acoso_general\n",
      "              precision    recall  f1-score   support\n",
      "\n",
      "       False       0.98      1.00      0.99      9756\n",
      "        True       0.00      0.00      0.00       206\n",
      "\n",
      "    accuracy                           0.98      9962\n",
      "   macro avg       0.49      0.50      0.49      9962\n",
      "weighted avg       0.96      0.98      0.97      9962\n",
      "\n",
      "Accuracy para acoso_general: 0.98\n",
      "\n",
      "Etiqueta: redes_sociales\n",
      "              precision    recall  f1-score   support\n",
      "\n",
      "       False       0.99      1.00      1.00      9899\n",
      "        True       0.67      0.03      0.06        63\n",
      "\n",
      "    accuracy                           0.99      9962\n",
      "   macro avg       0.83      0.52      0.53      9962\n",
      "weighted avg       0.99      0.99      0.99      9962\n",
      "\n",
      "Accuracy para redes_sociales: 0.99\n",
      "\n",
      "Etiqueta: suicidio_autolesion\n",
      "              precision    recall  f1-score   support\n",
      "\n",
      "       False       1.00      1.00      1.00      9933\n",
      "        True       0.00      0.00      0.00        29\n",
      "\n",
      "    accuracy                           1.00      9962\n",
      "   macro avg       0.50      0.50      0.50      9962\n",
      "weighted avg       0.99      1.00      1.00      9962\n",
      "\n",
      "Accuracy para suicidio_autolesion: 1.00\n"
     ]
    }
   ],
   "source": [
    "print(\"\\nReporte de métricas para Naive Bayes (multietiqueta):\")\n",
    "for i, column in enumerate(label_columns):\n",
    "    print(f\"\\nEtiqueta: {column}\")\n",
    "    print(classification_report(y_test.iloc[:, i], nb_predictions[:, i]))\n",
    "    acc = accuracy_score(y_test.iloc[:, i], nb_predictions[:, i])\n",
    "    print(f\"Accuracy para {column}: {acc:.2f}\")"
   ]
  },
  {
   "cell_type": "code",
   "execution_count": 21,
   "metadata": {},
   "outputs": [
    {
     "name": "stdout",
     "output_type": "stream",
     "text": [
      "\n",
      "Accuracy para Naive Bayes: 0.57\n"
     ]
    }
   ],
   "source": [
    "# Evaluación\n",
    "nb_accuracy = accuracy_score(y_test.values, nb_predictions)\n",
    "print(f\"\\nAccuracy para Naive Bayes: {nb_accuracy:.2f}\")"
   ]
  }
 ],
 "metadata": {
  "kernelspec": {
   "display_name": "Python 3",
   "language": "python",
   "name": "python3"
  },
  "language_info": {
   "codemirror_mode": {
    "name": "ipython",
    "version": 3
   },
   "file_extension": ".py",
   "mimetype": "text/x-python",
   "name": "python",
   "nbconvert_exporter": "python",
   "pygments_lexer": "ipython3",
   "version": "3.11.9"
  }
 },
 "nbformat": 4,
 "nbformat_minor": 2
}
